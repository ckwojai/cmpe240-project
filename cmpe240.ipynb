{
 "cells": [
  {
   "cell_type": "code",
   "execution_count": 2,
   "id": "fd5d2ef8",
   "metadata": {},
   "outputs": [],
   "source": [
    "import matplotlib.pyplot as plt"
   ]
  },
  {
   "cell_type": "code",
   "execution_count": 4,
   "id": "b1bcd07a",
   "metadata": {},
   "outputs": [
    {
     "data": {
      "text/plain": [
       "(0.0, 6.0, 0.0, 20.0)"
      ]
     },
     "execution_count": 4,
     "metadata": {},
     "output_type": "execute_result"
    },
    {
     "data": {
      "image/png": "[encoded data removed]",
      "text/plain": [
       "<Figure size 432x288 with 1 Axes>"
      ]
     },
     "metadata": {
      "needs_background": "light"
     },
     "output_type": "display_data"
    }
   ],
   "source": []
  },
  {
   "cell_type": "code",
   "execution_count": 8,
   "id": "80fc9271",
   "metadata": {},
   "outputs": [
    {
     "data": {
      "text/plain": [
       "(0.0, 100.0, 0.0, 100.0)"
      ]
     },
     "execution_count": 8,
     "metadata": {},
     "output_type": "execute_result"
    },
    {
     "data": {
      "image/png": "[encoded data removed]",
      "text/plain": [
       "<Figure size 432x288 with 1 Axes>"
      ]
     },
     "metadata": {
      "needs_background": "light"
     },
     "output_type": "display_data"
    }
   ],
   "source": [
    "plt.plot([60, 10, 10, 60], [60, 60, 10, 10], 'ro')\n",
    "plt.axis([0, 100, 0, 100])"
   ]
  },
  {
   "cell_type": "code",
   "execution_count": 18,
   "id": "eb17c7e5",
   "metadata": {
    "scrolled": true
   },
   "outputs": [
    {
     "data": {
      "text/plain": [
       "[<matplotlib.lines.Line2D at 0x7f8318c79310>]"
      ]
     },
     "execution_count": 18,
     "metadata": {},
     "output_type": "execute_result"
    },
    {
     "data": {
      "image/png": "[encoded data removed]",
      "text/plain": [
       "<Figure size 432x288 with 1 Axes>"
      ]
     },
     "metadata": {
      "needs_background": "light"
     },
     "output_type": "display_data"
    }
   ],
   "source": [
    "plt.plot(60, 60, 'ro')\n",
    "plt.plot(10, 60, 'ro')"
   ]
  },
  {
   "cell_type": "code",
   "execution_count": 53,
   "id": "1bf39968",
   "metadata": {},
   "outputs": [],
   "source": [
    "def transform_square(p1, p2, p3, p4, scale):\n",
    "    def translate_pt_on_line(pa, pb, scale):\n",
    "        x1,y1 = pa\n",
    "        x2,y2 = pb\n",
    "        mx = x2-x1\n",
    "        my = y2-y1\n",
    "        n_x1 = x1 + scale*mx\n",
    "        n_y1 = y1 + scale*my\n",
    "        return (n_x1, n_y1)\n",
    "    \n",
    "    n_p1 = translate_pt_on_line(p1, p2, scale)\n",
    "    n_p2 = translate_pt_on_line(p2, p3, scale)\n",
    "    n_p3 = translate_pt_on_line(p3, p4, scale)\n",
    "    n_p4 = translate_pt_on_line(p4, p1, scale)\n",
    "    return n_p1, n_p2, n_p3, n_p4"
   ]
  },
  {
   "cell_type": "code",
   "execution_count": 59,
   "id": "3847c609",
   "metadata": {},
   "outputs": [],
   "source": [
    "p1 = (0,10)\n",
    "p2 = (0,0)\n",
    "p3 = (10,0)\n",
    "p4 = (10,10)\n",
    "n_p1, n_p2, n_p3, n_p4 = transform_square(p1, p2, p3, p4, 0.8)\n",
    "nn_p1, nn_p2, nn_p3, nn_p4 = transform_square(n_p1, n_p2, n_p3, n_p4, 0.8)"
   ]
  },
  {
   "cell_type": "code",
   "execution_count": 60,
   "id": "3fe60ef5",
   "metadata": {},
   "outputs": [
    {
     "data": {
      "image/png": "[encoded data removed]",
      "text/plain": [
       "<Figure size 432x288 with 1 Axes>"
      ]
     },
     "metadata": {
      "needs_background": "light"
     },
     "output_type": "display_data"
    }
   ],
   "source": [
    "for p in [p1, p2, p3, p4]:\n",
    "    plt.plot(p[0], p[1], 'ro')\n",
    "for p in [n_p1, n_p2, n_p3, n_p4]:\n",
    "    plt.plot(p[0], p[1], 'go')\n",
    "for p in [nn_p1, nn_p2, nn_p3, nn_p4]:\n",
    "    plt.plot(p[0], p[1], 'bo')"
   ]
  },
  {
   "cell_type": "code",
   "execution_count": 22,
   "id": "1234f9de",
   "metadata": {},
   "outputs": [
    {
     "data": {
      "image/png": "[encoded data removed]",
      "text/plain": [
       "<Figure size 432x288 with 1 Axes>"
      ]
     },
     "metadata": {
      "needs_background": "light"
     },
     "output_type": "display_data"
    }
   ],
   "source": [
    "for p in [n_p1, n_p2, n_p3, n_p4]:\n",
    "    plt.plot(p, 'ro')"
   ]
  },
  {
   "cell_type": "code",
   "execution_count": 37,
   "id": "bf50f233",
   "metadata": {},
   "outputs": [],
   "source": [
    "def translate_pt_on_line(p1, p2, scale):\n",
    "        x1,y1 = p1\n",
    "        x2,y2 = p2\n",
    "        mx = x2-x1\n",
    "        my = y2-y1\n",
    "        n_x1 = x1 + scale*mx\n",
    "        n_y1 = y1 + scale*my\n",
    "        return (n_x1, n_y1)"
   ]
  },
  {
   "cell_type": "code",
   "execution_count": 40,
   "id": "b273fdb2",
   "metadata": {},
   "outputs": [
    {
     "data": {
      "text/plain": [
       "(0.0, 2.0)"
      ]
     },
     "execution_count": 40,
     "metadata": {},
     "output_type": "execute_result"
    }
   ],
   "source": [
    "p1 = (0,10)\n",
    "p2 = (0,0)\n",
    "p3 = (10,0)\n",
    "p4 = (10,10)\n",
    "translate_pt_on_line(p1, p2, 0.8)"
   ]
  },
  {
   "cell_type": "code",
   "execution_count": 41,
   "id": "6fd949bc",
   "metadata": {},
   "outputs": [
    {
     "data": {
      "text/plain": [
       "(8.0, 0.0)"
      ]
     },
     "execution_count": 41,
     "metadata": {},
     "output_type": "execute_result"
    }
   ],
   "source": [
    "translate_pt_on_line(p2, p3, 0.8)"
   ]
  },
  {
   "cell_type": "code",
   "execution_count": 43,
   "id": "a7dada38",
   "metadata": {},
   "outputs": [
    {
     "data": {
      "text/plain": [
       "(10.0, 8.0)"
      ]
     },
     "execution_count": 43,
     "metadata": {},
     "output_type": "execute_result"
    }
   ],
   "source": [
    "translate_pt_on_line(p3, p4, 0.8)"
   ]
  },
  {
   "cell_type": "code",
   "execution_count": 44,
   "id": "7ce8bb6b",
   "metadata": {},
   "outputs": [
    {
     "data": {
      "text/plain": [
       "(2.0, 10.0)"
      ]
     },
     "execution_count": 44,
     "metadata": {},
     "output_type": "execute_result"
    }
   ],
   "source": [
    "translate_pt_on_line(p4, p1, 0.8)"
   ]
  },
  {
   "cell_type": "code",
   "execution_count": 9,
   "id": "4ba35c70",
   "metadata": {},
   "outputs": [],
   "source": [
    "def virtual_to_physical_coordinate(pv, display_dimension):\n",
    "    (width, height) = display_dimension\n",
    "    (xv, yv) = pv\n",
    "    m = width / 2\n",
    "    n = height / 2\n",
    "    if xv > m or xv < -m:\n",
    "        raise ValueError(\"input virtual coordinate x out of bound of physical display\")\n",
    "    if yv > n or yv < -n:\n",
    "        raise ValueError(\"input virtual coordinate y out of bound of physical display\")\n",
    "    # Convertion\n",
    "    xp = xv + m\n",
    "    yp = yv + n\n",
    "    return (xp, yp)"
   ]
  },
  {
   "cell_type": "code",
   "execution_count": 10,
   "id": "4b352f86",
   "metadata": {},
   "outputs": [
    {
     "data": {
      "text/plain": [
       "(80.0, 64.0)"
      ]
     },
     "execution_count": 10,
     "metadata": {},
     "output_type": "execute_result"
    }
   ],
   "source": [
    "virtual_to_physical_coordinate((0, 0), (160, 128))"
   ]
  },
  {
   "cell_type": "code",
   "execution_count": 11,
   "id": "24cc7019",
   "metadata": {},
   "outputs": [],
   "source": [
    "def fill_square_around_pv(display, pv, display_dimension, square_length, color):\n",
    "    (width, height) = display_dimension\n",
    "    (xv, yv) = pv\n",
    "    m = width / 2\n",
    "    n = height / 2\n",
    "    if xv-square_length < -m or xv+square_length > m:\n",
    "        raise ValueError(\"input virtual coordinate x causes square to go out of bound in physical display\")\n",
    "    if yv-square_lenght < -n or yv+square_length > n:\n",
    "        raise ValueError(\"input virtual coordinate y causes square to go out of bound in physical display\")\n",
    "    \n",
    "    (xp, yp) = virtual_to_physical_coordinate(pv, display_dimension)\n",
    "    ltp = ((xp - square_len), (yp - square_len))\n",
    "    display.fill(ltp[0], ltp[1], square_length, square_length, color)"
   ]
  },
  {
   "cell_type": "code",
   "execution_count": 4,
   "id": "d91b6175",
   "metadata": {},
   "outputs": [],
   "source": [
    "import math\n",
    "class vector_helper:\n",
    "    @staticmethod\n",
    "    def virtual_to_physical_coordinate(display_dimension, pv):\n",
    "        max_x, max_y = display_dimension\n",
    "        (xv, yv) = pv\n",
    "        m = max_x / 2\n",
    "        n = max_y / 2\n",
    "        if xv > m or xv < -m:\n",
    "            warn(f\"input virtual coordinate x ({xv}) out of bound of physical display\")\n",
    "        if yv > n or yv < -n:\n",
    "            warn(f\"input virtual coordinate y ({yv}) out of bound of physical display\")\n",
    "        # Convertion\n",
    "        xp = xv + m\n",
    "        yp = -yv + n\n",
    "        return (xp, yp)\n",
    "\n",
    "    @staticmethod\n",
    "    def rotate_around_center(pc, p, degree):\n",
    "        alpha = radians(degree)\n",
    "        pcx, pcy = pc\n",
    "        dx, dy = -pcx, -pcy\n",
    "        x, y = p\n",
    "        sa, ca = sin(alpha), cos(alpha)\n",
    "        xp = ca*x - sa*y + dx*ca-dy*sa-dx\n",
    "        yp = sa*x + ca*y + dx*sa+dy*ca-dy\n",
    "        return (xp, yp)\n",
    "\n",
    "    @staticmethod\n",
    "    def translate_pt_on_line(pa, pb, scale, translate_pt=0):\n",
    "        x1,y1 = pa\n",
    "        x2,y2 = pb\n",
    "        mx = x2-x1\n",
    "        my = y2-y1\n",
    "        if translate_pt == 0:\n",
    "            n_x = x1 + scale*mx\n",
    "            n_y = y1 + scale*my\n",
    "        elif translate_pt == 1:\n",
    "            n_x = x2 + scale*mx\n",
    "            n_y = y2 + scale*my\n",
    "        else:\n",
    "            raise ValueError(\"invalid translate_pt, it needs to be either 0 or 1\")\n",
    "        return (n_x, n_y)\n",
    "    \n",
    "    @staticmethod\n",
    "    def world_to_viewer_transform(pw, pv):\n",
    "        pvx, pvy, pvz = pv\n",
    "        pwx, pwy, pwz = pw\n",
    "        rho = math.sqrt(pvx**2+pvy**2+pvz**2)\n",
    "        mu = math.sqrt(pvx**2+pyv**2)\n",
    "        st = pvy/mu\n",
    "        ct = pvx/mu\n",
    "        sp = mu/rho\n",
    "        cp = pvz/rho\n",
    "        ptx = -st*pwx + ct*pwy\n",
    "        pty = -cp*ct*pwx - cp*st*pwy + sp*pwz\n",
    "        ptz = -sp*ct*pwx - sp*ct*pwy - cp*pwz + rho\n",
    "        return (ptx,pty,ptz)\n",
    "    def perspective_projection(pt, D):\n",
    "        ptx, pty, ptz = pt\n",
    "        ppx = D*ptx/ptz\n",
    "        ppy = D*pty/ptz\n",
    "        return (ppx,ppy)"
   ]
  },
  {
   "cell_type": "code",
   "execution_count": null,
   "id": "739ce00e",
   "metadata": {},
   "outputs": [],
   "source": []
  }
 ],
 "metadata": {
  "kernelspec": {
   "display_name": "Python 3 (ipykernel)",
   "language": "python",
   "name": "python3"
  },
  "language_info": {
   "codemirror_mode": {
    "name": "ipython",
    "version": 3
   },
   "file_extension": ".py",
   "mimetype": "text/x-python",
   "name": "python",
   "nbconvert_exporter": "python",
   "pygments_lexer": "ipython3",
   "version": "3.9.7"
  }
 },
 "nbformat": 4,
 "nbformat_minor": 5
}
